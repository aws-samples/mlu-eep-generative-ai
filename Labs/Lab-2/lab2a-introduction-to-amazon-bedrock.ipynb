{
 "cells": [
  {
   "cell_type": "markdown",
   "id": "c56d9c9e",
   "metadata": {},
   "source": [
    "<p style=\"padding: 10px; border: 1px solid black;\">\n",
    "<img src=\"../mlu_utils/MLU-NEW-logo.png\" alt=\"drawing\" width=\"400\"/> <br/>\n",
    "\n",
    "\n",
    "# <a name=\"0\">Machine Learning University</a>\n",
    "## <a name=\"0\">Lab2a: Amazon Bedrock API Walkthrough</a>\n",
    "\n",
    "<br>\n",
    "\n",
    "---\n",
    "    \n",
    "Amazon Bedrock is a fully managed service that makes foundation models (FMs) from Amazon and third-party model providers easily accessible through an API. This notebook covers the Amazon Bedrock API using SDK for Python (Boto3).\n",
    "    \n",
    "1. <a href=\"#1\">Installation and API calls</a>\n",
    "1. <a href=\"#2\">Accessing the Bedrock service using the SDK for Python</a>\n",
    "2. <a href=\"#3\">Bedrock API Call</a>\n",
    "3. <a href=\"#4\">Quizzes</a>\n",
    "\n",
    "In this lab, we will cover topics such as:\n",
    "- Setting up and accessing the Bedrock service using Boto3\n",
    "- Exploring available Large Language Models (LLMs) in Bedrock\n",
    "- Performing Bedrock API calls with various customization options\n",
    "- Understanding and manipulating model parameters for text generation"
   ]
  },
  {
   "cell_type": "markdown",
   "id": "5d627c33-2f13-4893-9281-7da39e2c1949",
   "metadata": {},
   "source": [
    "### <a name=\"1\">Installation of libraries </a>"
   ]
  },
  {
   "cell_type": "markdown",
   "id": "28483e31",
   "metadata": {},
   "source": [
    "We first install recent versions of boto3 and botocore (defined in a file called `requirements.txt`)."
   ]
  },
  {
   "cell_type": "code",
   "execution_count": null,
   "id": "4a036aa3",
   "metadata": {
    "tags": []
   },
   "outputs": [],
   "source": [
    "%%capture\n",
    "!pip install -q -r ../requirements.txt"
   ]
  },
  {
   "cell_type": "markdown",
   "id": "e6beb1cd",
   "metadata": {},
   "source": [
    "We can access the Bedrock service through boto3 by providing the service name, region name and endpoint URL."
   ]
  },
  {
   "cell_type": "markdown",
   "id": "cba1fb13",
   "metadata": {},
   "source": [
    "### <a name=\"2\">Accessing the Bedrock service using the SDK for Python</a>"
   ]
  },
  {
   "cell_type": "code",
   "execution_count": null,
   "id": "266edd88",
   "metadata": {
    "tags": []
   },
   "outputs": [],
   "source": [
    "import json, boto3\n",
    "\n",
    "session = boto3.session.Session()\n",
    "\n",
    "bedrock = session.client(\n",
    "    service_name=\"bedrock\",\n",
    "    region_name=session.region_name,\n",
    ")"
   ]
  },
  {
   "cell_type": "markdown",
   "id": "5ce0b608",
   "metadata": {},
   "source": [
    "Let's take a look at the available Large Language Models (LLMs) in Bedrock."
   ]
  },
  {
   "cell_type": "code",
   "execution_count": null,
   "id": "a9c3ba5d",
   "metadata": {
    "tags": []
   },
   "outputs": [],
   "source": [
    "bedrock.list_foundation_models()[\"modelSummaries\"]"
   ]
  },
  {
   "cell_type": "markdown",
   "id": "99d79958",
   "metadata": {},
   "source": [
    "We use the service name 'bedrock-runtime' for inference. "
   ]
  },
  {
   "cell_type": "code",
   "execution_count": null,
   "id": "b7cb6c2c",
   "metadata": {
    "tags": []
   },
   "outputs": [],
   "source": [
    "# For inference\n",
    "bedrock_inference = session.client(\n",
    "    service_name=\"bedrock-runtime\",\n",
    ")"
   ]
  },
  {
   "cell_type": "markdown",
   "id": "0c65e5fd",
   "metadata": {},
   "source": [
    "Model IDs can be used to select a specific model in the API calls. \n",
    "\n",
    "This demo is focusing on the __Amazon Titan Text G1 - Premier__ model from __Amazon__. We will use the model with id: `amazon.titan-text-premier-v1:0`\n",
    "\n",
    "---"
   ]
  },
  {
   "cell_type": "markdown",
   "id": "9fbb64cb",
   "metadata": {},
   "source": [
    "### <a name=\"3\">Bedrock API Call</a>\n",
    "\n",
    "Bedrock API has the following parameters:\n",
    "* __`body`:__ The message body that includes the input text and model parameters. Model parameters help customize the models and the generated outputs.\n",
    "* __`modelId`:__ Identifier of the model. We can pick a model from the list of models printed in the previous code block.\n",
    "* __`accept`:__ The desired type of the inference body in the response.\n",
    "* __`contentType`:__ The type of the input data in the request body.\n",
    "\n",
    "<br>\n",
    "\n",
    "__Model parameters:__\n",
    "\n",
    "These parameters are provided within the body of the API call. Basically, we can control the randomness and the length of the generated sequences. \n",
    "\n",
    "__Randomness:__ \n",
    "\n",
    "* __`temperature`:__ Controls the randomness of the generated sequences. This parameter is between zero and one. When set closer to zero, the model tends to select higher probability words. When set further away from zero, the model may select lower-probability words. Temperature of zero gives the same output for the same input at every run.\n",
    "* __`topP`:__ Top P defines a cut-off based on the sum of probabilities of the potential choices. With this cut-off, the model only selects from the most probable words whose probabilities sum up to the topP value. \n",
    "\n",
    "__Length:__ \n",
    "\n",
    "* __`maxTokens`:__ Controls the maximum number of tokens in the generated response.\n",
    "* __`stopSequences`:__ A sequence of characters to stop the model from generating its output."
   ]
  },
  {
   "cell_type": "markdown",
   "id": "5166ec99",
   "metadata": {},
   "source": [
    "Let's define a function that will build our prompt as well as pass some model parameters to Bedrock. Once the call parameters are ready, we can use the __invoke_model()__ function to send the data and collect the response from the model. Then, we return the response at the end.\n",
    "\n",
    "**Note:** Different models may have different model parameters. Please refer to the [documentation](https://docs.aws.amazon.com/bedrock/latest/userguide/service_code_examples_bedrock-runtime.html) for more details."
   ]
  },
  {
   "cell_type": "code",
   "execution_count": null,
   "id": "6381affa",
   "metadata": {
    "tags": []
   },
   "outputs": [],
   "source": [
    "def send_prompt(prompt_data, temperature=0.0, top_p=1.0, max_token_count=1000):\n",
    "\n",
    "    body = json.dumps(\n",
    "        {\n",
    "            \"inputText\": prompt_data,\n",
    "            \"textGenerationConfig\": {\n",
    "                \"temperature\": temperature,\n",
    "                \"topP\": top_p,\n",
    "                \"maxTokenCount\": max_token_count,\n",
    "            },\n",
    "        }\n",
    "    )\n",
    "\n",
    "    modelId = \"amazon.titan-text-premier-v1:0\"\n",
    "    accept = \"application/json\"\n",
    "    contentType = \"application/json\"\n",
    "\n",
    "    response = bedrock_inference.invoke_model(\n",
    "        body=body, modelId=modelId, accept=accept, contentType=contentType\n",
    "    )\n",
    "\n",
    "    response_body = json.loads(response[\"body\"].read())\n",
    "\n",
    "    return response_body[\"results\"][0][\"outputText\"]"
   ]
  },
  {
   "cell_type": "markdown",
   "id": "dc0a8d86",
   "metadata": {},
   "source": [
    "Let's construct a simple API call and run it. \n",
    "\n",
    "As a sample text input, we use the following: __\"Can you name a few real-life applications of natural language processing?\"__. \n",
    "\n",
    "For inference parameters, we set the __`temperature`__ to 0."
   ]
  },
  {
   "cell_type": "code",
   "execution_count": null,
   "id": "18c77b56",
   "metadata": {
    "tags": []
   },
   "outputs": [],
   "source": [
    "from IPython.display import Markdown, display\n",
    "\n",
    "prompt_data = (\n",
    "    \"\"\"Can you name a few real-life applications of natural language processing?\"\"\"\n",
    ")\n",
    "\n",
    "display(Markdown(prompt_data))\n",
    "display(Markdown(send_prompt(prompt_data, temperature=0.0)))"
   ]
  },
  {
   "cell_type": "markdown",
   "id": "f21b2072",
   "metadata": {},
   "source": [
    "This provides a list of real-life NLP applications. "
   ]
  },
  {
   "cell_type": "markdown",
   "id": "d76c800d",
   "metadata": {},
   "source": [
    "If we want to generate slightly different looking outputs, we can increase the __`temperature`__ value. Let's also set the __`maxTokens`__ parameter this time."
   ]
  },
  {
   "cell_type": "markdown",
   "id": "8dd14f46",
   "metadata": {},
   "source": [
    "Changing the temperature parameter will create a slightly different looking list."
   ]
  },
  {
   "cell_type": "code",
   "execution_count": null,
   "id": "d2288738",
   "metadata": {
    "tags": []
   },
   "outputs": [],
   "source": [
    "prompt_data = (\n",
    "    \"\"\"Can you name a few real-life applications of natural language processing?\"\"\"\n",
    ")\n",
    "\n",
    "display(Markdown(prompt_data))\n",
    "display(Markdown(send_prompt(prompt_data, temperature=0.5, max_token_count=450)))"
   ]
  },
  {
   "cell_type": "markdown",
   "id": "f3be01d5",
   "metadata": {},
   "source": [
    "In addition to the __`temperature`__ and __`maxTokens`__ parameters, we can also add in the __`topP`__ parameter to set a cut-off for the sum of the probabilities of the potential words."
   ]
  },
  {
   "cell_type": "code",
   "execution_count": null,
   "id": "7099dfd4",
   "metadata": {
    "tags": []
   },
   "outputs": [],
   "source": [
    "prompt_data = (\n",
    "    \"\"\"Can you name a few real-life applications of natural language processing?\"\"\"\n",
    ")\n",
    "\n",
    "display(Markdown(prompt_data))\n",
    "display(\n",
    "    Markdown(send_prompt(prompt_data, max_token_count=450, temperature=0.5, top_p=0.7))\n",
    ")"
   ]
  },
  {
   "cell_type": "markdown",
   "id": "6ce30a83-0bd1-4b2b-adb3-cf669b630055",
   "metadata": {
    "tags": []
   },
   "source": [
    "---\n",
    "### <a name=\"4\">Quiz Questions</a>\n",
    "\n",
    "Well done on completing the lab! Now, it's time for a brief knowledge assessment.\n",
    "\n",
    "<div style=\"border: 4px solid coral; text-align: center; margin: auto;\">\n",
    "    <h2><i>Try it Yourself!</i></h2>\n",
    "    <br>\n",
    "    <p style=\"text-align:center;margin:auto;\"><img src=\"../mlu_utils/challenge.png\" alt=\"Challenge\" width=\"100\" /> </p>\n",
    "    <p style=\" text-align: center; margin: auto;\">Answer the following questions to test your understanding of using LLMs for inference.</p>\n",
    "    <br>\n",
    "</div>"
   ]
  },
  {
   "cell_type": "code",
   "execution_count": null,
   "id": "8a585fb7-7f8f-40b7-9668-b6eb97be845a",
   "metadata": {
    "tags": []
   },
   "outputs": [],
   "source": [
    "import sys\n",
    "sys.path.append('..')\n",
    "from mlu_utils.quiz_questions import *\n",
    "\n",
    "lab2a_question1"
   ]
  },
  {
   "cell_type": "markdown",
   "id": "6bfe8f9a",
   "metadata": {},
   "source": [
    "# Thank you!\n",
    "\n",
    "<p style=\"padding: 10px; border: 1px solid black;\">\n",
    "<img src=\"../mlu_utils/MLU-NEW-logo.png\" alt=\"drawing\" width=\"400\"/> <br/>"
   ]
  }
 ],
 "metadata": {
  "kernelspec": {
   "display_name": "conda_python3",
   "language": "python",
   "name": "conda_python3"
  },
  "language_info": {
   "codemirror_mode": {
    "name": "ipython",
    "version": 3
   },
   "file_extension": ".py",
   "mimetype": "text/x-python",
   "name": "python",
   "nbconvert_exporter": "python",
   "pygments_lexer": "ipython3",
   "version": "3.10.15"
  }
 },
 "nbformat": 4,
 "nbformat_minor": 5
}
